{
 "cells": [
  {
   "cell_type": "markdown",
   "id": "a4a6916b",
   "metadata": {},
   "source": [
    "Create a List, tuple and Dictionary with 5 elements in it and how to access few elements based on the index. Try  with different examples "
   ]
  },
  {
   "cell_type": "code",
   "execution_count": null,
   "id": "4938fdae",
   "metadata": {},
   "outputs": [],
   "source": [
    "list1 = [10, 20, 30, 40, 50] \n",
    "tuple1 = (100, 200, 300, 400, 500) \n",
    "dict1 = {\"apple\": 1, \"banana\": 2, \"cherry\": 3, \"date\": 4, \"elderberry\": 5} \n",
    "print(f\"Accessing element at index 2 in List: {my_list[2]}\")\n",
    "print(f\"Accessing element at index 4 in Tuple: {my_tuple[4]}\")\n",
    "print(f\"Accessing the last element of List: {my_list[-1]}\")\n",
    "print(f\"Accessing the second last element in Tuple: {my_tuple[-2]}\")\n",
    "print(f\"Accessing value for 'apple' in Dictionary: {my_dict['apple']}\")\n",
    "print(f\"Accessing value for 'cherry' in Dictionary: {my_dict['cherry']}\") \n",
    "print(f\"Slicing elements from index 1 to 3 in List: {my_list[1:4]}\")\n",
    "print(f\"Slicing elements from index 0 to 2 in Tuple: {my_tuple[:3]}\")"
   ]
  }
 ],
 "metadata": {
  "kernelspec": {
   "display_name": "Python 3 (ipykernel)",
   "language": "python",
   "name": "python3"
  },
  "language_info": {
   "codemirror_mode": {
    "name": "ipython",
    "version": 3
   },
   "file_extension": ".py",
   "mimetype": "text/x-python",
   "name": "python",
   "nbconvert_exporter": "python",
   "pygments_lexer": "ipython3",
   "version": "3.11.5"
  }
 },
 "nbformat": 4,
 "nbformat_minor": 5
}
