{
 "cells": [
  {
   "cell_type": "code",
   "execution_count": 8,
   "id": "b228f459",
   "metadata": {},
   "outputs": [
    {
     "name": "stdout",
     "output_type": "stream",
     "text": [
      "[100, 50, 256, 1000]\n",
      "[193, 443, 53]\n"
     ]
    }
   ],
   "source": [
    "l=[100,50,193,443,256,53,1000]\n",
    "l1=[]\n",
    "l2=[]\n",
    "for x in l:\n",
    "    if x%2==0:\n",
    "        l1.append(x)\n",
    "    else:\n",
    "        l2.append(x)\n",
    "print(l1)\n",
    "print(l2)"
   ]
  },
  {
   "cell_type": "code",
   "execution_count": 5,
   "id": "3d8ddb3f",
   "metadata": {},
   "outputs": [
    {
     "name": "stdout",
     "output_type": "stream",
     "text": [
      "[2, 34, 5, 6, 7]\n",
      "[1, 2, 34, 5, 6, 7]\n",
      "[34, 5, 6]\n",
      "[5, 6, 7]\n",
      "[5, 6]\n"
     ]
    }
   ],
   "source": [
    "l=[1,2,34,5,6,7]\n",
    "print(l[1:])\n",
    "print(l[:])\n",
    "print(l[2:5])\n",
    "print(l[3:5])\n"
   ]
  },
  {
   "cell_type": "code",
   "execution_count": 6,
   "id": "5115f416",
   "metadata": {},
   "outputs": [
    {
     "name": "stdout",
     "output_type": "stream",
     "text": [
      "1272\n",
      "21624\n",
      "3180\n",
      "3816\n",
      "47064\n",
      "17172\n"
     ]
    }
   ],
   "source": [
    "l=[2,34,5,6,74,27]\n",
    "for i in l:\n",
    "    print(i*636)"
   ]
  },
  {
   "cell_type": "code",
   "execution_count": 2,
   "id": "8fd13706",
   "metadata": {},
   "outputs": [
    {
     "name": "stdout",
     "output_type": "stream",
     "text": [
      "{'A': 10, 'B': 20, 'C': 30}\n"
     ]
    },
    {
     "data": {
      "text/plain": [
       "dict"
      ]
     },
     "execution_count": 2,
     "metadata": {},
     "output_type": "execute_result"
    }
   ],
   "source": [
    "a={\"A\":10,\"B\":20,\"C\":30}\n",
    "print(a)\n",
    "type(a)"
   ]
  },
  {
   "cell_type": "code",
   "execution_count": 5,
   "id": "8fffc0f7",
   "metadata": {},
   "outputs": [
    {
     "name": "stdout",
     "output_type": "stream",
     "text": [
      "{'A': 10, 'B': 20, 'C': 30}\n"
     ]
    },
    {
     "data": {
      "text/plain": [
       "dict"
      ]
     },
     "execution_count": 5,
     "metadata": {},
     "output_type": "execute_result"
    }
   ],
   "source": [
    "a=dict(A=10,B=20,C=30)\n",
    "print(a)\n",
    "type(a)"
   ]
  },
  {
   "cell_type": "code",
   "execution_count": 2,
   "id": "2f8b22c6-0e12-4e1b-b9d0-6176dfa277ad",
   "metadata": {},
   "outputs": [
    {
     "name": "stdout",
     "output_type": "stream",
     "text": [
      "dict_keys(['A', 'B', 'C'])\n",
      "dict_values([10, 20, 30])\n",
      "dict_items([('A', 10), ('B', 20), ('C', 30)])\n"
     ]
    }
   ],
   "source": [
    "a={\"A\":10,\"B\":20,\"C\":30}\n",
    "print(a.keys())\n",
    "print(a.values())\n",
    "print(a.items())"
   ]
  },
  {
   "cell_type": "code",
   "execution_count": 11,
   "id": "d82da564",
   "metadata": {},
   "outputs": [
    {
     "name": "stdout",
     "output_type": "stream",
     "text": [
      "{'Virat': 90, 'Rohit': 100, 'Rahul': 100, 'Hradik': 9, 'Gill': 20, 'Jadeja': 30, 'Siraj': 15}\n"
     ]
    },
    {
     "data": {
      "text/plain": [
       "dict"
      ]
     },
     "execution_count": 11,
     "metadata": {},
     "output_type": "execute_result"
    }
   ],
   "source": [
    "scores=dict(Virat=90,Rohit=100,Rahul=100,Hradik=9,Gill=20,Jadeja=30,Siraj=15)\n",
    "print(scores)\n",
    "type(scores)"
   ]
  },
  {
   "cell_type": "code",
   "execution_count": 7,
   "id": "1c355376",
   "metadata": {},
   "outputs": [
    {
     "data": {
      "text/plain": [
       "{'Virat': 90,\n",
       " 'Rohit': 100,\n",
       " 'Rahul': 100,\n",
       " 'Hradik': 9,\n",
       " 'Gill': 20,\n",
       " 'Jadeja': 30,\n",
       " 'Siraj': 15,\n",
       " 'Aswin': 15}"
      ]
     },
     "execution_count": 7,
     "metadata": {},
     "output_type": "execute_result"
    }
   ],
   "source": [
    "scores[\"Aswin\"]=15\n",
    "scores"
   ]
  },
  {
   "cell_type": "code",
   "execution_count": 14,
   "id": "c5cb6ade",
   "metadata": {},
   "outputs": [
    {
     "data": {
      "text/plain": [
       "{'Virat': 90,\n",
       " 'Rohit': 100,\n",
       " 'Rahul': 100,\n",
       " 'Hradik': 9,\n",
       " 'Gill': 20,\n",
       " 'Jadeja': 50,\n",
       " 'Siraj': 15}"
      ]
     },
     "execution_count": 14,
     "metadata": {},
     "output_type": "execute_result"
    }
   ],
   "source": [
    "scores.update({\"Jadeja\":50})\n",
    "scores"
   ]
  },
  {
   "cell_type": "code",
   "execution_count": 16,
   "id": "8a4a59f4",
   "metadata": {},
   "outputs": [
    {
     "data": {
      "text/plain": [
       "{'Virat': 90,\n",
       " 'Rohit': 102,\n",
       " 'Rahul': 100,\n",
       " 'Hradik': 9,\n",
       " 'Gill': 20,\n",
       " 'Jadeja': 50,\n",
       " 'Siraj': 15,\n",
       " 'Hardik': 53,\n",
       " 'Panth': 102}"
      ]
     },
     "execution_count": 16,
     "metadata": {},
     "output_type": "execute_result"
    }
   ],
   "source": [
    "scores.update({\"Hardik\":53,\"Panth\":102})#updates and adds\n",
    "scores"
   ]
  },
  {
   "cell_type": "code",
   "execution_count": 18,
   "id": "9879cffe",
   "metadata": {},
   "outputs": [
    {
     "data": {
      "text/plain": [
       "{'Virat': 90,\n",
       " 'Rohit': 102,\n",
       " 'Rahul': 100,\n",
       " 'Hradik': 9,\n",
       " 'Gill': 20,\n",
       " 'Jadeja': 50,\n",
       " 'Siraj': 15,\n",
       " 'Hardik': 53,\n",
       " 'Panth': 102,\n",
       " 'vicky': 60}"
      ]
     },
     "execution_count": 18,
     "metadata": {},
     "output_type": "execute_result"
    }
   ],
   "source": [
    "scores.setdefault(\"vicky\",60)#ignores the key:value if already present if not it will be added to the dict\n",
    "scores"
   ]
  },
  {
   "cell_type": "code",
   "execution_count": 19,
   "id": "ea9bea6a",
   "metadata": {},
   "outputs": [
    {
     "data": {
      "text/plain": [
       "102"
      ]
     },
     "execution_count": 19,
     "metadata": {},
     "output_type": "execute_result"
    }
   ],
   "source": [
    "scores.get(\"Rohit\")#retrives the keys value"
   ]
  },
  {
   "cell_type": "code",
   "execution_count": 21,
   "id": "609ede65",
   "metadata": {},
   "outputs": [
    {
     "data": {
      "text/plain": [
       "{'A': None, 'B': None, 'C': None, 'D': None}"
      ]
     },
     "execution_count": 21,
     "metadata": {},
     "output_type": "execute_result"
    }
   ],
   "source": [
    "#creating dict from list of keys\n",
    "lis=[\"A\",\"B\",\"C\",\"D\"]\n",
    "my_dict=dict.fromkeys(lis)\n",
    "my_dict"
   ]
  },
  {
   "cell_type": "code",
   "execution_count": 22,
   "id": "747134a9",
   "metadata": {},
   "outputs": [
    {
     "data": {
      "text/plain": [
       "{'A': 10, 'B': 30, 'C': None, 'D': None}"
      ]
     },
     "execution_count": 22,
     "metadata": {},
     "output_type": "execute_result"
    }
   ],
   "source": [
    "my_dict.update({\"A\":10,\"B\":30})\n",
    "my_dict\n"
   ]
  },
  {
   "cell_type": "code",
   "execution_count": null,
   "id": "27ff7efc",
   "metadata": {},
   "outputs": [],
   "source": []
  }
 ],
 "metadata": {
  "kernelspec": {
   "display_name": "Python 3 (ipykernel)",
   "language": "python",
   "name": "python3"
  },
  "language_info": {
   "codemirror_mode": {
    "name": "ipython",
    "version": 3
   },
   "file_extension": ".py",
   "mimetype": "text/x-python",
   "name": "python",
   "nbconvert_exporter": "python",
   "pygments_lexer": "ipython3",
   "version": "3.11.5"
  }
 },
 "nbformat": 4,
 "nbformat_minor": 5
}
